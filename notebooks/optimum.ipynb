{
 "cells": [
  {
   "cell_type": "code",
   "execution_count": null,
   "metadata": {},
   "outputs": [
    {
     "ename": "",
     "evalue": "",
     "output_type": "error",
     "traceback": [
      "\u001b[1;31mRunning cells with 'Python 3.12.3' requires the ipykernel package.\n",
      "\u001b[1;31mRun the following command to install 'ipykernel' into the Python environment. \n",
      "\u001b[1;31mCommand: '/opt/homebrew/bin/python3 -m pip install ipykernel -U --user --force-reinstall'"
     ]
    }
   ],
   "source": [
    "import numpy as np\n",
    "\n",
    "def generate_synthetic_data(n_orders=100000):\n",
    "    data = []\n",
    "    for _ in range(n_orders):\n",
    "        # Generate a random number of items per order (between 1 and 5)\n",
    "        n_items = np.random.randint(1, 6)\n",
    "        # Generate a random integer for each dimension of each item\n",
    "        order = np.random.randint(1, 50, (n_items, 3))\n",
    "        data.append(order)\n",
    "    return data\n",
    "\n",
    "# Generate the synthetic data\n",
    "synthetic_data = generate_synthetic_data()"
   ]
  },
  {
   "cell_type": "code",
   "execution_count": null,
   "metadata": {},
   "outputs": [
    {
     "ename": "",
     "evalue": "",
     "output_type": "error",
     "traceback": [
      "\u001b[1;31mRunning cells with 'Python 3.12.3' requires the ipykernel package.\n",
      "\u001b[1;31mRun the following command to install 'ipykernel' into the Python environment. \n",
      "\u001b[1;31mCommand: '/opt/homebrew/bin/python3 -m pip install ipykernel -U --user --force-reinstall'"
     ]
    }
   ],
   "source": [
    "import pickle\n",
    "\n",
    "# Save the synthetic data to a file\n",
    "with open('synthetic_data.pkl', 'wb') as f:\n",
    "    pickle.dump(synthetic_data, f)"
   ]
  },
  {
   "cell_type": "code",
   "execution_count": null,
   "metadata": {},
   "outputs": [
    {
     "ename": "",
     "evalue": "",
     "output_type": "error",
     "traceback": [
      "\u001b[1;31mRunning cells with 'Python 3.12.3' requires the ipykernel package.\n",
      "\u001b[1;31mRun the following command to install 'ipykernel' into the Python environment. \n",
      "\u001b[1;31mCommand: '/opt/homebrew/bin/python3 -m pip install ipykernel -U --user --force-reinstall'"
     ]
    }
   ],
   "source": [
    "import json\n",
    "\n",
    "# Convert numpy arrays to lists\n",
    "synthetic_data_list = [order.tolist() for order in synthetic_data]\n",
    "\n",
    "# Save the synthetic data to a JSON file\n",
    "with open('synthetic.json', 'w') as f:\n",
    "    json.dump(synthetic_data_list, f)"
   ]
  },
  {
   "cell_type": "code",
   "execution_count": null,
   "metadata": {},
   "outputs": [
    {
     "ename": "",
     "evalue": "",
     "output_type": "error",
     "traceback": [
      "\u001b[1;31mRunning cells with 'Python 3.12.3' requires the ipykernel package.\n",
      "\u001b[1;31mRun the following command to install 'ipykernel' into the Python environment. \n",
      "\u001b[1;31mCommand: '/opt/homebrew/bin/python3 -m pip install ipykernel -U --user --force-reinstall'"
     ]
    }
   ],
   "source": [
    "def calculate_box_cost(dimensions, cost_factor):\n",
    "    # Calculate the volume of the box\n",
    "    volume = dimensions[0] * dimensions[1] * dimensions[2]\n",
    "    # Calculate the cost of the box\n",
    "    cost = cost_factor * volume\n",
    "    return cost\n",
    "\n",
    "# Example usage:\n",
    "dimensions = [5, 5, 5]  # Dimensions of the box (length, width, height)\n",
    "cost_factor = 0.1  # Cost factor\n",
    "cost = calculate_box_cost(dimensions, cost_factor)\n",
    "print(f\"The cost of the box is: {cost}\")"
   ]
  },
  {
   "cell_type": "code",
   "execution_count": null,
   "metadata": {},
   "outputs": [
    {
     "ename": "",
     "evalue": "",
     "output_type": "error",
     "traceback": [
      "\u001b[1;31mRunning cells with 'Python 3.12.3' requires the ipykernel package.\n",
      "\u001b[1;31mRun the following command to install 'ipykernel' into the Python environment. \n",
      "\u001b[1;31mCommand: '/opt/homebrew/bin/python3 -m pip install ipykernel -U --user --force-reinstall'"
     ]
    }
   ],
   "source": [
    "def generate_box_sizes():\n",
    "    # Define the names of the boxes\n",
    "    box_names = [\"XS\", \"S\", \"M\", \"L\", \"XL\", \"XXL\", \"XXXL\"]\n",
    "    # Generate a unique box size for each size category\n",
    "    box_sizes = {}\n",
    "    for i, box_name in enumerate(box_names):\n",
    "        # Generate a random integer for each dimension of the box\n",
    "        box_size = [10 * (i+1), 10 * (i+1), 10 * (i+1)]\n",
    "        # Add the box size to the dictionary\n",
    "        box_sizes[box_name] = box_size\n",
    "    return box_sizes\n",
    "\n",
    "# Generate the box sizes\n",
    "box_sizes = generate_box_sizes()"
   ]
  },
  {
   "cell_type": "code",
   "execution_count": null,
   "metadata": {},
   "outputs": [
    {
     "ename": "",
     "evalue": "",
     "output_type": "error",
     "traceback": [
      "\u001b[1;31mRunning cells with 'Python 3.12.3' requires the ipykernel package.\n",
      "\u001b[1;31mRun the following command to install 'ipykernel' into the Python environment. \n",
      "\u001b[1;31mCommand: '/opt/homebrew/bin/python3 -m pip install ipykernel -U --user --force-reinstall'"
     ]
    }
   ],
   "source": [
    "# Print the box names and their sizes\n",
    "for box_name, box_size in box_sizes.items():\n",
    "    print(f\"{box_name}: {box_size}\")"
   ]
  },
  {
   "cell_type": "code",
   "execution_count": null,
   "metadata": {},
   "outputs": [
    {
     "ename": "",
     "evalue": "",
     "output_type": "error",
     "traceback": [
      "\u001b[1;31mRunning cells with 'Python 3.12.3' requires the ipykernel package.\n",
      "\u001b[1;31mRun the following command to install 'ipykernel' into the Python environment. \n",
      "\u001b[1;31mCommand: '/opt/homebrew/bin/python3 -m pip install ipykernel -U --user --force-reinstall'"
     ]
    }
   ],
   "source": [
    "#for a single product\n",
    "\n",
    "import pulp\n",
    "\n",
    "def solve_ilp(orders, box_sizes):\n",
    "    # Create the 'prob' variable to contain the problem data\n",
    "    prob = pulp.LpProblem(\"Box Packing Problem\", pulp.LpMinimize)\n",
    "\n",
    "    # Decision variables\n",
    "    x = pulp.LpVariable.dicts(\"box\", box_sizes.keys(), 0, None, pulp.LpInteger)\n",
    "\n",
    "    # Objective function\n",
    "    prob += pulp.lpSum([x[i] for i in box_sizes.keys()]), \"Total Cost of Boxes\"\n",
    "\n",
    "    # Constraints\n",
    "    for order in orders:\n",
    "        prob += pulp.lpSum([x[i] for i in box_sizes.keys() if box_sizes[i] >= order]) >= 1\n",
    "\n",
    "    # Solve the problem using GLPK\n",
    "    prob.solve(pulp.GLPK_CMD())\n",
    "\n",
    "    # Print the status of the solution\n",
    "    print(\"Status:\", pulp.LpStatus[prob.status])\n",
    "\n",
    "    # Print the decision variables\n",
    "    for v in prob.variables():\n",
    "        print(v.name, \"=\", v.varValue)\n",
    "\n",
    "# Example usage:\n",
    "orders = [[5, 5, 5], [10, 10, 10], [15, 15, 15]]  # Example orders\n",
    "solve_ilp(orders, box_sizes)"
   ]
  },
  {
   "cell_type": "code",
   "execution_count": null,
   "metadata": {},
   "outputs": [
    {
     "ename": "",
     "evalue": "",
     "output_type": "error",
     "traceback": [
      "\u001b[1;31mRunning cells with 'Python 3.12.3' requires the ipykernel package.\n",
      "\u001b[1;31mRun the following command to install 'ipykernel' into the Python environment. \n",
      "\u001b[1;31mCommand: '/opt/homebrew/bin/python3 -m pip install ipykernel -U --user --force-reinstall'"
     ]
    }
   ],
   "source": [
    "import pandas as pd\n",
    "import json\n",
    "\n",
    "# Load the dataset\n",
    "with open('/Users/sasanksasi/hackathon/synthetic_data.json') as f:\n",
    "    data = json.load(f)\n",
    "\n",
    "# Convert the list to a DataFrame if it contains dictionaries\n",
    "if isinstance(data[0], dict):\n",
    "    df = pd.DataFrame(data)\n",
    "    product_sizes = df['items'].iloc[:5].tolist()\n",
    "else:\n",
    "    product_sizes = data[:5]  # Use the list directly if it contains the sizes\n",
    "\n",
    "# Extract the actual sizes from the dictionaries if necessary\n",
    "if isinstance(product_sizes[0], dict):\n",
    "    product_sizes = [size['actual_key_name'] for size in product_sizes]\n",
    "\n",
    "# Flatten the list of product sizes if it contains lists or arrays\n",
    "if isinstance(product_sizes[0], (list, np.ndarray)):\n",
    "    product_sizes = [size for sublist in product_sizes for size in sublist]\n",
    "\n",
    "# Define the size of the bag\n",
    "bag_sizes = {'S': 10, 'M': 20, 'L': 30, 'XL': 40, 'XXL': 50, 'XXXL': 60}  # Replace with your actual bag sizes\n",
    "bag_size = {'L': bag_sizes['L']}\n",
    "\n",
    "# Solve the problem\n",
    "solve_ilp(product_sizes, bag_size)"
   ]
  },
  {
   "cell_type": "code",
   "execution_count": null,
   "metadata": {},
   "outputs": [
    {
     "ename": "",
     "evalue": "",
     "output_type": "error",
     "traceback": [
      "\u001b[1;31mRunning cells with 'Python 3.12.3' requires the ipykernel package.\n",
      "\u001b[1;31mRun the following command to install 'ipykernel' into the Python environment. \n",
      "\u001b[1;31mCommand: '/opt/homebrew/bin/python3 -m pip install ipykernel -U --user --force-reinstall'"
     ]
    }
   ],
   "source": [
    "import pandas as pd\n",
    "import json\n",
    "\n",
    "# Load the dataset\n",
    "with open('/Users/sasanksasi/hackathon/synthetic_order_data.json') as f:\n",
    "    data = json.load(f)\n",
    "\n",
    "print(df.columns)"
   ]
  }
 ],
 "metadata": {
  "kernelspec": {
   "display_name": "Python 3",
   "language": "python",
   "name": "python3"
  },
  "language_info": {
   "codemirror_mode": {
    "name": "ipython",
    "version": 3
   },
   "file_extension": ".py",
   "mimetype": "text/x-python",
   "name": "python",
   "nbconvert_exporter": "python",
   "pygments_lexer": "ipython3",
   "version": "3.12.3"
  }
 },
 "nbformat": 4,
 "nbformat_minor": 2
}
